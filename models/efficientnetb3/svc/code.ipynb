{
  "nbformat": 4,
  "nbformat_minor": 0,
  "metadata": {
    "colab": {
      "provenance": []
    },
    "kernelspec": {
      "name": "python3",
      "display_name": "Python 3"
    },
    "language_info": {
      "name": "python"
    }
  },
  "cells": [
    {
      "cell_type": "markdown",
      "source": [
        "Baixando dados"
      ],
      "metadata": {
        "id": "0EyANtub5dl7"
      }
    },
    {
      "cell_type": "code",
      "source": [
        "!unzip trainval-efficientnetb3.zip"
      ],
      "metadata": {
        "colab": {
          "base_uri": "https://localhost:8080/"
        },
        "id": "Ygxaxv2f3qUa",
        "outputId": "e777ecec-0fff-4dbc-d4f4-342b76a83e8c"
      },
      "execution_count": null,
      "outputs": [
        {
          "output_type": "stream",
          "name": "stdout",
          "text": [
            "Archive:  trainval-efficientnetb3.zip\n",
            "  inflating: trainval-efficientnetb3.csv  \n",
            "  inflating: train_id_codes.txt      \n",
            "  inflating: val_id_codes.txt        \n"
          ]
        }
      ]
    },
    {
      "cell_type": "markdown",
      "source": [
        "Imports iniciais"
      ],
      "metadata": {
        "id": "4qT_5sXU5e0L"
      }
    },
    {
      "cell_type": "code",
      "execution_count": null,
      "metadata": {
        "id": "FHv-87Ec3dIA"
      },
      "outputs": [],
      "source": [
        "import numpy as np\n",
        "import pandas as pd\n",
        "from sklearn.model_selection import train_test_split\n",
        "from sklearn.svm import SVC\n",
        "SEED = 564258"
      ]
    },
    {
      "cell_type": "markdown",
      "source": [
        "Separando treino e teste"
      ],
      "metadata": {
        "id": "kv2dHQWw5fxV"
      }
    },
    {
      "cell_type": "code",
      "source": [
        "data = pd.read_csv('trainval-efficientnetb3.csv')"
      ],
      "metadata": {
        "id": "FhGgRe7E3z91"
      },
      "execution_count": null,
      "outputs": []
    },
    {
      "cell_type": "code",
      "source": [
        "train_ids = pd.read_csv('train_id_codes.txt', header=None)\n",
        "train_ids = train_ids.to_numpy().flatten()\n",
        "train_ids"
      ],
      "metadata": {
        "colab": {
          "base_uri": "https://localhost:8080/"
        },
        "id": "IMNcsZm84D_Z",
        "outputId": "54560b37-a2c4-466b-d6cb-504979ee7287"
      },
      "execution_count": null,
      "outputs": [
        {
          "output_type": "execute_result",
          "data": {
            "text/plain": [
              "array(['c97472ef2c66', '81914ceb4e74', '89d2a7403a06', ...,\n",
              "       'b0eeae01b8ab', '4bcee3cbe232', '7455e2b5fc57'], dtype=object)"
            ]
          },
          "metadata": {},
          "execution_count": 20
        }
      ]
    },
    {
      "cell_type": "code",
      "source": [
        "train_index = data[data['id_code'].isin(train_ids)].index\n",
        "val_index = data[~data['id_code'].isin(train_ids)].index\n",
        "X_train = data.iloc[train_index, 1:-1].to_numpy()\n",
        "X_val = data.iloc[val_index, 1:-1].to_numpy()\n",
        "y_train = data.iloc[train_index, -1].to_numpy()\n",
        "y_val = data.iloc[val_index, -1].to_numpy()\n",
        "\n",
        "from sklearn.preprocessing import StandardScaler\n",
        "\n",
        "scaler = StandardScaler()\n",
        "X_train = scaler.fit_transform(X_train)\n",
        "X_val = scaler.transform(X_val)\n",
        "\n",
        "X_train.shape, X_val.shape, y_train.shape, y_val.shape"
      ],
      "metadata": {
        "colab": {
          "base_uri": "https://localhost:8080/"
        },
        "id": "NB3Q5YnZ4gay",
        "outputId": "bc1d2b92-c6bd-421b-cbbe-a462976cc1f6"
      },
      "execution_count": null,
      "outputs": [
        {
          "output_type": "execute_result",
          "data": {
            "text/plain": [
              "((2929, 1536), (733, 1536), (2929,), (733,))"
            ]
          },
          "metadata": {},
          "execution_count": 49
        }
      ]
    },
    {
      "cell_type": "code",
      "source": [
        "X_train[0], y_train[0]"
      ],
      "metadata": {
        "colab": {
          "base_uri": "https://localhost:8080/"
        },
        "id": "FHLrr49Y47Ec",
        "outputId": "565cdf9c-9e40-4749-ed82-3c9378dad3c0"
      },
      "execution_count": null,
      "outputs": [
        {
          "output_type": "execute_result",
          "data": {
            "text/plain": [
              "(array([ 0.68126209,  1.64294089, -1.12589311, ...,  0.84743361,\n",
              "         2.15995938,  0.09631934]),\n",
              " np.int64(2))"
            ]
          },
          "metadata": {},
          "execution_count": 50
        }
      ]
    },
    {
      "cell_type": "code",
      "source": [
        "X_train.mean(), X_train.std()"
      ],
      "metadata": {
        "colab": {
          "base_uri": "https://localhost:8080/"
        },
        "id": "UklerRAg5qW9",
        "outputId": "199a2b3e-b667-4285-a84d-1cba8d74dfbc"
      },
      "execution_count": null,
      "outputs": [
        {
          "output_type": "execute_result",
          "data": {
            "text/plain": [
              "(np.float64(1.1047545097412875e-16), np.float64(0.9999999999999998))"
            ]
          },
          "metadata": {},
          "execution_count": 51
        }
      ]
    },
    {
      "cell_type": "code",
      "source": [
        "from sklearn.model_selection import GridSearchCV, KFold, cross_val_score\n",
        "from sklearn.metrics import make_scorer, f1_score\n",
        "\n",
        "f1_scorer = make_scorer(f1_score, average='weighted')\n",
        "\n",
        "param_grid = {\n",
        "    'C': [0.1, 1, 10, 100, 1000],\n",
        "    'gamma': [1, 0.1, 0.01, 0.001, 0.0001],\n",
        "    'kernel': ['rbf'],\n",
        "}\n",
        "\n",
        "NUM_TRIES = 3\n",
        "outer_kf = KFold(n_splits=NUM_TRIES, shuffle=True, random_state=SEED)\n",
        "svc = SVC()\n",
        "# nested cross validation\n",
        "models = []\n",
        "metrics = []\n",
        "for i, (tr_index, va_index) in enumerate(outer_kf.split(X_train, y_train)):\n",
        "    X_train_fold, X_val_fold = X_train[tr_index], X_train[va_index]\n",
        "    y_train_fold, y_val_fold = y_train[tr_index], y_train[va_index]\n",
        "\n",
        "    inner_kf = KFold(n_splits=5, shuffle=True, random_state=SEED + 1 + i)\n",
        "    grid = GridSearchCV(svc, param_grid, refit = True, verbose = 3, cv=inner_kf, scoring=f1_scorer)\n",
        "    grid.fit(X_train_fold, y_train_fold)\n",
        "\n",
        "    models.append(grid.best_estimator_)\n",
        "    metrics.append(grid.best_score_) # avg weighted f1score\n"
      ],
      "metadata": {
        "colab": {
          "base_uri": "https://localhost:8080/"
        },
        "id": "PqxbqqBX5cwN",
        "outputId": "2265961f-4c04-438d-a1c7-0e8455822cce"
      },
      "execution_count": null,
      "outputs": [
        {
          "output_type": "stream",
          "name": "stdout",
          "text": [
            "Fitting 5 folds for each of 25 candidates, totalling 125 fits\n",
            "[CV 1/5] END ........C=0.1, gamma=1, kernel=rbf;, score=0.293 total time=   4.0s\n",
            "[CV 2/5] END ........C=0.1, gamma=1, kernel=rbf;, score=0.318 total time=   4.4s\n",
            "[CV 3/5] END ........C=0.1, gamma=1, kernel=rbf;, score=0.319 total time=   4.3s\n",
            "[CV 4/5] END ........C=0.1, gamma=1, kernel=rbf;, score=0.339 total time=   4.0s\n",
            "[CV 5/5] END ........C=0.1, gamma=1, kernel=rbf;, score=0.362 total time=   4.3s\n",
            "[CV 1/5] END ......C=0.1, gamma=0.1, kernel=rbf;, score=0.293 total time=   4.4s\n",
            "[CV 2/5] END ......C=0.1, gamma=0.1, kernel=rbf;, score=0.318 total time=   3.9s\n",
            "[CV 3/5] END ......C=0.1, gamma=0.1, kernel=rbf;, score=0.319 total time=   4.0s\n",
            "[CV 4/5] END ......C=0.1, gamma=0.1, kernel=rbf;, score=0.339 total time=   4.6s\n",
            "[CV 5/5] END ......C=0.1, gamma=0.1, kernel=rbf;, score=0.362 total time=   4.0s\n",
            "[CV 1/5] END .....C=0.1, gamma=0.01, kernel=rbf;, score=0.293 total time=   4.3s\n",
            "[CV 2/5] END .....C=0.1, gamma=0.01, kernel=rbf;, score=0.318 total time=   4.5s\n",
            "[CV 3/5] END .....C=0.1, gamma=0.01, kernel=rbf;, score=0.319 total time=   4.1s\n",
            "[CV 4/5] END .....C=0.1, gamma=0.01, kernel=rbf;, score=0.339 total time=   4.3s\n",
            "[CV 5/5] END .....C=0.1, gamma=0.01, kernel=rbf;, score=0.362 total time=   4.3s\n",
            "[CV 1/5] END ....C=0.1, gamma=0.001, kernel=rbf;, score=0.583 total time=   2.4s\n",
            "[CV 2/5] END ....C=0.1, gamma=0.001, kernel=rbf;, score=0.620 total time=   2.5s\n",
            "[CV 3/5] END ....C=0.1, gamma=0.001, kernel=rbf;, score=0.624 total time=   2.4s\n",
            "[CV 4/5] END ....C=0.1, gamma=0.001, kernel=rbf;, score=0.627 total time=   2.9s\n",
            "[CV 5/5] END ....C=0.1, gamma=0.001, kernel=rbf;, score=0.629 total time=   2.4s\n",
            "[CV 1/5] END ...C=0.1, gamma=0.0001, kernel=rbf;, score=0.627 total time=   2.0s\n",
            "[CV 2/5] END ...C=0.1, gamma=0.0001, kernel=rbf;, score=0.649 total time=   2.1s\n",
            "[CV 3/5] END ...C=0.1, gamma=0.0001, kernel=rbf;, score=0.647 total time=   2.1s\n",
            "[CV 4/5] END ...C=0.1, gamma=0.0001, kernel=rbf;, score=0.659 total time=   2.4s\n",
            "[CV 5/5] END ...C=0.1, gamma=0.0001, kernel=rbf;, score=0.642 total time=   2.4s\n",
            "[CV 1/5] END ..........C=1, gamma=1, kernel=rbf;, score=0.335 total time=   4.1s\n",
            "[CV 2/5] END ..........C=1, gamma=1, kernel=rbf;, score=0.352 total time=   4.0s\n",
            "[CV 3/5] END ..........C=1, gamma=1, kernel=rbf;, score=0.384 total time=   4.8s\n",
            "[CV 4/5] END ..........C=1, gamma=1, kernel=rbf;, score=0.388 total time=   4.0s\n",
            "[CV 5/5] END ..........C=1, gamma=1, kernel=rbf;, score=0.403 total time=   4.1s\n",
            "[CV 1/5] END ........C=1, gamma=0.1, kernel=rbf;, score=0.341 total time=   4.8s\n",
            "[CV 2/5] END ........C=1, gamma=0.1, kernel=rbf;, score=0.353 total time=   4.1s\n",
            "[CV 3/5] END ........C=1, gamma=0.1, kernel=rbf;, score=0.384 total time=   4.1s\n",
            "[CV 4/5] END ........C=1, gamma=0.1, kernel=rbf;, score=0.394 total time=   4.8s\n",
            "[CV 5/5] END ........C=1, gamma=0.1, kernel=rbf;, score=0.403 total time=   4.1s\n",
            "[CV 1/5] END .......C=1, gamma=0.01, kernel=rbf;, score=0.341 total time=   4.2s\n",
            "[CV 2/5] END .......C=1, gamma=0.01, kernel=rbf;, score=0.353 total time=   5.0s\n",
            "[CV 3/5] END .......C=1, gamma=0.01, kernel=rbf;, score=0.384 total time=   4.1s\n",
            "[CV 4/5] END .......C=1, gamma=0.01, kernel=rbf;, score=0.394 total time=   4.4s\n",
            "[CV 5/5] END .......C=1, gamma=0.01, kernel=rbf;, score=0.403 total time=   4.7s\n",
            "[CV 1/5] END ......C=1, gamma=0.001, kernel=rbf;, score=0.718 total time=   2.2s\n",
            "[CV 2/5] END ......C=1, gamma=0.001, kernel=rbf;, score=0.693 total time=   2.3s\n",
            "[CV 3/5] END ......C=1, gamma=0.001, kernel=rbf;, score=0.748 total time=   2.2s\n",
            "[CV 4/5] END ......C=1, gamma=0.001, kernel=rbf;, score=0.733 total time=   2.8s\n",
            "[CV 5/5] END ......C=1, gamma=0.001, kernel=rbf;, score=0.727 total time=   2.4s\n",
            "[CV 1/5] END .....C=1, gamma=0.0001, kernel=rbf;, score=0.637 total time=   1.4s\n",
            "[CV 2/5] END .....C=1, gamma=0.0001, kernel=rbf;, score=0.692 total time=   1.3s\n",
            "[CV 3/5] END .....C=1, gamma=0.0001, kernel=rbf;, score=0.693 total time=   1.4s\n",
            "[CV 4/5] END .....C=1, gamma=0.0001, kernel=rbf;, score=0.697 total time=   1.4s\n",
            "[CV 5/5] END .....C=1, gamma=0.0001, kernel=rbf;, score=0.662 total time=   1.3s\n",
            "[CV 1/5] END .........C=10, gamma=1, kernel=rbf;, score=0.341 total time=   4.7s\n",
            "[CV 2/5] END .........C=10, gamma=1, kernel=rbf;, score=0.353 total time=   4.1s\n",
            "[CV 3/5] END .........C=10, gamma=1, kernel=rbf;, score=0.384 total time=   4.0s\n",
            "[CV 4/5] END .........C=10, gamma=1, kernel=rbf;, score=0.394 total time=   4.7s\n",
            "[CV 5/5] END .........C=10, gamma=1, kernel=rbf;, score=0.403 total time=   4.0s\n",
            "[CV 1/5] END .......C=10, gamma=0.1, kernel=rbf;, score=0.341 total time=   4.0s\n",
            "[CV 2/5] END .......C=10, gamma=0.1, kernel=rbf;, score=0.353 total time=   4.6s\n",
            "[CV 3/5] END .......C=10, gamma=0.1, kernel=rbf;, score=0.384 total time=   4.1s\n",
            "[CV 4/5] END .......C=10, gamma=0.1, kernel=rbf;, score=0.394 total time=   4.0s\n",
            "[CV 5/5] END .......C=10, gamma=0.1, kernel=rbf;, score=0.403 total time=   4.6s\n",
            "[CV 1/5] END ......C=10, gamma=0.01, kernel=rbf;, score=0.341 total time=   4.1s\n",
            "[CV 2/5] END ......C=10, gamma=0.01, kernel=rbf;, score=0.353 total time=   4.1s\n",
            "[CV 3/5] END ......C=10, gamma=0.01, kernel=rbf;, score=0.384 total time=   4.6s\n",
            "[CV 4/5] END ......C=10, gamma=0.01, kernel=rbf;, score=0.394 total time=   3.9s\n",
            "[CV 5/5] END ......C=10, gamma=0.01, kernel=rbf;, score=0.403 total time=   4.0s\n",
            "[CV 1/5] END .....C=10, gamma=0.001, kernel=rbf;, score=0.732 total time=   2.5s\n",
            "[CV 2/5] END .....C=10, gamma=0.001, kernel=rbf;, score=0.713 total time=   2.9s\n",
            "[CV 3/5] END .....C=10, gamma=0.001, kernel=rbf;, score=0.776 total time=   2.3s\n",
            "[CV 4/5] END .....C=10, gamma=0.001, kernel=rbf;, score=0.770 total time=   2.3s\n",
            "[CV 5/5] END .....C=10, gamma=0.001, kernel=rbf;, score=0.747 total time=   2.4s\n",
            "[CV 1/5] END ....C=10, gamma=0.0001, kernel=rbf;, score=0.766 total time=   1.2s\n",
            "[CV 2/5] END ....C=10, gamma=0.0001, kernel=rbf;, score=0.776 total time=   1.3s\n",
            "[CV 3/5] END ....C=10, gamma=0.0001, kernel=rbf;, score=0.811 total time=   1.6s\n",
            "[CV 4/5] END ....C=10, gamma=0.0001, kernel=rbf;, score=0.787 total time=   1.5s\n",
            "[CV 5/5] END ....C=10, gamma=0.0001, kernel=rbf;, score=0.796 total time=   1.2s\n",
            "[CV 1/5] END ........C=100, gamma=1, kernel=rbf;, score=0.341 total time=   4.0s\n",
            "[CV 2/5] END ........C=100, gamma=1, kernel=rbf;, score=0.353 total time=   4.0s\n",
            "[CV 3/5] END ........C=100, gamma=1, kernel=rbf;, score=0.384 total time=   4.8s\n",
            "[CV 4/5] END ........C=100, gamma=1, kernel=rbf;, score=0.394 total time=   3.9s\n",
            "[CV 5/5] END ........C=100, gamma=1, kernel=rbf;, score=0.403 total time=   3.9s\n",
            "[CV 1/5] END ......C=100, gamma=0.1, kernel=rbf;, score=0.341 total time=   4.9s\n",
            "[CV 2/5] END ......C=100, gamma=0.1, kernel=rbf;, score=0.353 total time=   3.9s\n",
            "[CV 3/5] END ......C=100, gamma=0.1, kernel=rbf;, score=0.384 total time=   4.0s\n",
            "[CV 4/5] END ......C=100, gamma=0.1, kernel=rbf;, score=0.394 total time=   4.7s\n",
            "[CV 5/5] END ......C=100, gamma=0.1, kernel=rbf;, score=0.403 total time=   4.0s\n",
            "[CV 1/5] END .....C=100, gamma=0.01, kernel=rbf;, score=0.341 total time=   4.0s\n",
            "[CV 2/5] END .....C=100, gamma=0.01, kernel=rbf;, score=0.353 total time=   4.9s\n",
            "[CV 3/5] END .....C=100, gamma=0.01, kernel=rbf;, score=0.384 total time=   4.2s\n",
            "[CV 4/5] END .....C=100, gamma=0.01, kernel=rbf;, score=0.394 total time=   4.1s\n",
            "[CV 5/5] END .....C=100, gamma=0.01, kernel=rbf;, score=0.403 total time=   4.8s\n",
            "[CV 1/5] END ....C=100, gamma=0.001, kernel=rbf;, score=0.732 total time=   2.3s\n",
            "[CV 2/5] END ....C=100, gamma=0.001, kernel=rbf;, score=0.713 total time=   2.2s\n",
            "[CV 3/5] END ....C=100, gamma=0.001, kernel=rbf;, score=0.776 total time=   2.2s\n",
            "[CV 4/5] END ....C=100, gamma=0.001, kernel=rbf;, score=0.770 total time=   2.7s\n",
            "[CV 5/5] END ....C=100, gamma=0.001, kernel=rbf;, score=0.747 total time=   2.6s\n",
            "[CV 1/5] END ...C=100, gamma=0.0001, kernel=rbf;, score=0.762 total time=   1.3s\n",
            "[CV 2/5] END ...C=100, gamma=0.0001, kernel=rbf;, score=0.772 total time=   1.3s\n",
            "[CV 3/5] END ...C=100, gamma=0.0001, kernel=rbf;, score=0.766 total time=   1.3s\n",
            "[CV 4/5] END ...C=100, gamma=0.0001, kernel=rbf;, score=0.785 total time=   1.3s\n",
            "[CV 5/5] END ...C=100, gamma=0.0001, kernel=rbf;, score=0.783 total time=   1.4s\n",
            "[CV 1/5] END .......C=1000, gamma=1, kernel=rbf;, score=0.341 total time=   4.7s\n",
            "[CV 2/5] END .......C=1000, gamma=1, kernel=rbf;, score=0.353 total time=   4.1s\n",
            "[CV 3/5] END .......C=1000, gamma=1, kernel=rbf;, score=0.384 total time=   4.1s\n",
            "[CV 4/5] END .......C=1000, gamma=1, kernel=rbf;, score=0.394 total time=   4.6s\n",
            "[CV 5/5] END .......C=1000, gamma=1, kernel=rbf;, score=0.403 total time=   4.1s\n",
            "[CV 1/5] END .....C=1000, gamma=0.1, kernel=rbf;, score=0.341 total time=   4.0s\n",
            "[CV 2/5] END .....C=1000, gamma=0.1, kernel=rbf;, score=0.353 total time=   4.7s\n",
            "[CV 3/5] END .....C=1000, gamma=0.1, kernel=rbf;, score=0.384 total time=   4.0s\n",
            "[CV 4/5] END .....C=1000, gamma=0.1, kernel=rbf;, score=0.394 total time=   3.9s\n",
            "[CV 5/5] END .....C=1000, gamma=0.1, kernel=rbf;, score=0.403 total time=   4.7s\n",
            "[CV 1/5] END ....C=1000, gamma=0.01, kernel=rbf;, score=0.341 total time=   4.0s\n",
            "[CV 2/5] END ....C=1000, gamma=0.01, kernel=rbf;, score=0.353 total time=   4.0s\n",
            "[CV 3/5] END ....C=1000, gamma=0.01, kernel=rbf;, score=0.384 total time=   4.7s\n",
            "[CV 4/5] END ....C=1000, gamma=0.01, kernel=rbf;, score=0.394 total time=   4.0s\n",
            "[CV 5/5] END ....C=1000, gamma=0.01, kernel=rbf;, score=0.403 total time=   4.0s\n",
            "[CV 1/5] END ...C=1000, gamma=0.001, kernel=rbf;, score=0.734 total time=   2.2s\n",
            "[CV 2/5] END ...C=1000, gamma=0.001, kernel=rbf;, score=0.713 total time=   2.8s\n",
            "[CV 3/5] END ...C=1000, gamma=0.001, kernel=rbf;, score=0.773 total time=   2.3s\n",
            "[CV 4/5] END ...C=1000, gamma=0.001, kernel=rbf;, score=0.776 total time=   2.2s\n",
            "[CV 5/5] END ...C=1000, gamma=0.001, kernel=rbf;, score=0.745 total time=   2.3s\n",
            "[CV 1/5] END ..C=1000, gamma=0.0001, kernel=rbf;, score=0.766 total time=   1.3s\n",
            "[CV 2/5] END ..C=1000, gamma=0.0001, kernel=rbf;, score=0.767 total time=   1.3s\n",
            "[CV 3/5] END ..C=1000, gamma=0.0001, kernel=rbf;, score=0.769 total time=   1.7s\n",
            "[CV 4/5] END ..C=1000, gamma=0.0001, kernel=rbf;, score=0.784 total time=   1.7s\n",
            "[CV 5/5] END ..C=1000, gamma=0.0001, kernel=rbf;, score=0.792 total time=   1.4s\n",
            "Fitting 5 folds for each of 25 candidates, totalling 125 fits\n",
            "[CV 1/5] END ........C=0.1, gamma=1, kernel=rbf;, score=0.293 total time=   4.2s\n",
            "[CV 2/5] END ........C=0.1, gamma=1, kernel=rbf;, score=0.361 total time=   4.6s\n",
            "[CV 3/5] END ........C=0.1, gamma=1, kernel=rbf;, score=0.329 total time=   4.4s\n",
            "[CV 4/5] END ........C=0.1, gamma=1, kernel=rbf;, score=0.328 total time=   4.2s\n",
            "[CV 5/5] END ........C=0.1, gamma=1, kernel=rbf;, score=0.374 total time=   4.7s\n",
            "[CV 1/5] END ......C=0.1, gamma=0.1, kernel=rbf;, score=0.293 total time=   4.4s\n",
            "[CV 2/5] END ......C=0.1, gamma=0.1, kernel=rbf;, score=0.361 total time=   4.1s\n",
            "[CV 3/5] END ......C=0.1, gamma=0.1, kernel=rbf;, score=0.329 total time=   4.8s\n",
            "[CV 4/5] END ......C=0.1, gamma=0.1, kernel=rbf;, score=0.328 total time=   4.2s\n",
            "[CV 5/5] END ......C=0.1, gamma=0.1, kernel=rbf;, score=0.374 total time=   4.1s\n",
            "[CV 1/5] END .....C=0.1, gamma=0.01, kernel=rbf;, score=0.293 total time=   4.9s\n",
            "[CV 2/5] END .....C=0.1, gamma=0.01, kernel=rbf;, score=0.361 total time=   4.2s\n",
            "[CV 3/5] END .....C=0.1, gamma=0.01, kernel=rbf;, score=0.329 total time=   4.1s\n",
            "[CV 4/5] END .....C=0.1, gamma=0.01, kernel=rbf;, score=0.328 total time=   5.1s\n",
            "[CV 5/5] END .....C=0.1, gamma=0.01, kernel=rbf;, score=0.374 total time=   4.1s\n",
            "[CV 1/5] END ....C=0.1, gamma=0.001, kernel=rbf;, score=0.601 total time=   2.4s\n",
            "[CV 2/5] END ....C=0.1, gamma=0.001, kernel=rbf;, score=0.671 total time=   2.3s\n",
            "[CV 3/5] END ....C=0.1, gamma=0.001, kernel=rbf;, score=0.624 total time=   3.2s\n",
            "[CV 4/5] END ....C=0.1, gamma=0.001, kernel=rbf;, score=0.609 total time=   2.4s\n",
            "[CV 5/5] END ....C=0.1, gamma=0.001, kernel=rbf;, score=0.649 total time=   2.4s\n",
            "[CV 1/5] END ...C=0.1, gamma=0.0001, kernel=rbf;, score=0.645 total time=   1.9s\n",
            "[CV 2/5] END ...C=0.1, gamma=0.0001, kernel=rbf;, score=0.699 total time=   1.9s\n",
            "[CV 3/5] END ...C=0.1, gamma=0.0001, kernel=rbf;, score=0.666 total time=   2.2s\n",
            "[CV 4/5] END ...C=0.1, gamma=0.0001, kernel=rbf;, score=0.644 total time=   2.5s\n",
            "[CV 5/5] END ...C=0.1, gamma=0.0001, kernel=rbf;, score=0.662 total time=   2.0s\n",
            "[CV 1/5] END ..........C=1, gamma=1, kernel=rbf;, score=0.344 total time=   4.2s\n",
            "[CV 2/5] END ..........C=1, gamma=1, kernel=rbf;, score=0.394 total time=   4.4s\n",
            "[CV 3/5] END ..........C=1, gamma=1, kernel=rbf;, score=0.358 total time=   4.6s\n",
            "[CV 4/5] END ..........C=1, gamma=1, kernel=rbf;, score=0.355 total time=   4.1s\n",
            "[CV 5/5] END ..........C=1, gamma=1, kernel=rbf;, score=0.407 total time=   4.4s\n",
            "[CV 1/5] END ........C=1, gamma=0.1, kernel=rbf;, score=0.344 total time=   4.6s\n",
            "[CV 2/5] END ........C=1, gamma=0.1, kernel=rbf;, score=0.395 total time=   3.9s\n",
            "[CV 3/5] END ........C=1, gamma=0.1, kernel=rbf;, score=0.358 total time=   4.6s\n",
            "[CV 4/5] END ........C=1, gamma=0.1, kernel=rbf;, score=0.355 total time=   4.6s\n",
            "[CV 5/5] END ........C=1, gamma=0.1, kernel=rbf;, score=0.408 total time=   4.1s\n",
            "[CV 1/5] END .......C=1, gamma=0.01, kernel=rbf;, score=0.345 total time=   4.8s\n",
            "[CV 2/5] END .......C=1, gamma=0.01, kernel=rbf;, score=0.395 total time=   4.0s\n",
            "[CV 3/5] END .......C=1, gamma=0.01, kernel=rbf;, score=0.358 total time=   4.1s\n",
            "[CV 4/5] END .......C=1, gamma=0.01, kernel=rbf;, score=0.355 total time=   4.8s\n",
            "[CV 5/5] END .......C=1, gamma=0.01, kernel=rbf;, score=0.408 total time=   4.1s\n",
            "[CV 1/5] END ......C=1, gamma=0.001, kernel=rbf;, score=0.699 total time=   2.3s\n",
            "[CV 2/5] END ......C=1, gamma=0.001, kernel=rbf;, score=0.749 total time=   2.2s\n",
            "[CV 3/5] END ......C=1, gamma=0.001, kernel=rbf;, score=0.755 total time=   2.6s\n",
            "[CV 4/5] END ......C=1, gamma=0.001, kernel=rbf;, score=0.705 total time=   2.6s\n",
            "[CV 5/5] END ......C=1, gamma=0.001, kernel=rbf;, score=0.713 total time=   2.2s\n",
            "[CV 1/5] END .....C=1, gamma=0.0001, kernel=rbf;, score=0.668 total time=   1.3s\n",
            "[CV 2/5] END .....C=1, gamma=0.0001, kernel=rbf;, score=0.716 total time=   1.3s\n",
            "[CV 3/5] END .....C=1, gamma=0.0001, kernel=rbf;, score=0.700 total time=   1.3s\n",
            "[CV 4/5] END .....C=1, gamma=0.0001, kernel=rbf;, score=0.662 total time=   1.3s\n",
            "[CV 5/5] END .....C=1, gamma=0.0001, kernel=rbf;, score=0.686 total time=   1.3s\n",
            "[CV 1/5] END .........C=10, gamma=1, kernel=rbf;, score=0.344 total time=   4.9s\n",
            "[CV 2/5] END .........C=10, gamma=1, kernel=rbf;, score=0.395 total time=   4.0s\n",
            "[CV 3/5] END .........C=10, gamma=1, kernel=rbf;, score=0.358 total time=   4.3s\n",
            "[CV 4/5] END .........C=10, gamma=1, kernel=rbf;, score=0.355 total time=   4.7s\n",
            "[CV 5/5] END .........C=10, gamma=1, kernel=rbf;, score=0.408 total time=   4.1s\n",
            "[CV 1/5] END .......C=10, gamma=0.1, kernel=rbf;, score=0.344 total time=   4.6s\n",
            "[CV 2/5] END .......C=10, gamma=0.1, kernel=rbf;, score=0.395 total time=   4.4s\n",
            "[CV 3/5] END .......C=10, gamma=0.1, kernel=rbf;, score=0.358 total time=   4.0s\n",
            "[CV 4/5] END .......C=10, gamma=0.1, kernel=rbf;, score=0.355 total time=   4.6s\n",
            "[CV 5/5] END .......C=10, gamma=0.1, kernel=rbf;, score=0.408 total time=   4.5s\n",
            "[CV 1/5] END ......C=10, gamma=0.01, kernel=rbf;, score=0.345 total time=   4.1s\n",
            "[CV 2/5] END ......C=10, gamma=0.01, kernel=rbf;, score=0.395 total time=   4.8s\n",
            "[CV 3/5] END ......C=10, gamma=0.01, kernel=rbf;, score=0.358 total time=   4.2s\n",
            "[CV 4/5] END ......C=10, gamma=0.01, kernel=rbf;, score=0.355 total time=   4.1s\n",
            "[CV 5/5] END ......C=10, gamma=0.01, kernel=rbf;, score=0.409 total time=   4.7s\n",
            "[CV 1/5] END .....C=10, gamma=0.001, kernel=rbf;, score=0.713 total time=   2.3s\n",
            "[CV 2/5] END .....C=10, gamma=0.001, kernel=rbf;, score=0.798 total time=   2.3s\n",
            "[CV 3/5] END .....C=10, gamma=0.001, kernel=rbf;, score=0.784 total time=   2.3s\n",
            "[CV 4/5] END .....C=10, gamma=0.001, kernel=rbf;, score=0.745 total time=   2.3s\n",
            "[CV 5/5] END .....C=10, gamma=0.001, kernel=rbf;, score=0.723 total time=   2.8s\n",
            "[CV 1/5] END ....C=10, gamma=0.0001, kernel=rbf;, score=0.762 total time=   1.4s\n",
            "[CV 2/5] END ....C=10, gamma=0.0001, kernel=rbf;, score=0.831 total time=   1.2s\n",
            "[CV 3/5] END ....C=10, gamma=0.0001, kernel=rbf;, score=0.804 total time=   1.2s\n",
            "[CV 4/5] END ....C=10, gamma=0.0001, kernel=rbf;, score=0.767 total time=   1.2s\n",
            "[CV 5/5] END ....C=10, gamma=0.0001, kernel=rbf;, score=0.797 total time=   1.1s\n",
            "[CV 1/5] END ........C=100, gamma=1, kernel=rbf;, score=0.344 total time=   4.1s\n",
            "[CV 2/5] END ........C=100, gamma=1, kernel=rbf;, score=0.395 total time=   4.8s\n",
            "[CV 3/5] END ........C=100, gamma=1, kernel=rbf;, score=0.358 total time=   4.1s\n",
            "[CV 4/5] END ........C=100, gamma=1, kernel=rbf;, score=0.355 total time=   4.1s\n",
            "[CV 5/5] END ........C=100, gamma=1, kernel=rbf;, score=0.408 total time=   4.9s\n",
            "[CV 1/5] END ......C=100, gamma=0.1, kernel=rbf;, score=0.344 total time=   4.2s\n",
            "[CV 2/5] END ......C=100, gamma=0.1, kernel=rbf;, score=0.395 total time=   4.2s\n",
            "[CV 3/5] END ......C=100, gamma=0.1, kernel=rbf;, score=0.358 total time=   4.8s\n",
            "[CV 4/5] END ......C=100, gamma=0.1, kernel=rbf;, score=0.355 total time=   4.2s\n",
            "[CV 5/5] END ......C=100, gamma=0.1, kernel=rbf;, score=0.408 total time=   4.5s\n",
            "[CV 1/5] END .....C=100, gamma=0.01, kernel=rbf;, score=0.345 total time=   4.7s\n",
            "[CV 2/5] END .....C=100, gamma=0.01, kernel=rbf;, score=0.395 total time=   4.2s\n",
            "[CV 3/5] END .....C=100, gamma=0.01, kernel=rbf;, score=0.358 total time=   4.6s\n",
            "[CV 4/5] END .....C=100, gamma=0.01, kernel=rbf;, score=0.355 total time=   4.5s\n",
            "[CV 5/5] END .....C=100, gamma=0.01, kernel=rbf;, score=0.409 total time=   4.2s\n",
            "[CV 1/5] END ....C=100, gamma=0.001, kernel=rbf;, score=0.713 total time=   2.5s\n",
            "[CV 2/5] END ....C=100, gamma=0.001, kernel=rbf;, score=0.798 total time=   2.8s\n",
            "[CV 3/5] END ....C=100, gamma=0.001, kernel=rbf;, score=0.784 total time=   2.3s\n",
            "[CV 4/5] END ....C=100, gamma=0.001, kernel=rbf;, score=0.745 total time=   2.3s\n",
            "[CV 5/5] END ....C=100, gamma=0.001, kernel=rbf;, score=0.723 total time=   2.4s\n",
            "[CV 1/5] END ...C=100, gamma=0.0001, kernel=rbf;, score=0.739 total time=   1.4s\n",
            "[CV 2/5] END ...C=100, gamma=0.0001, kernel=rbf;, score=0.813 total time=   1.5s\n",
            "[CV 3/5] END ...C=100, gamma=0.0001, kernel=rbf;, score=0.785 total time=   1.8s\n",
            "[CV 4/5] END ...C=100, gamma=0.0001, kernel=rbf;, score=0.776 total time=   1.5s\n",
            "[CV 5/5] END ...C=100, gamma=0.0001, kernel=rbf;, score=0.792 total time=   1.3s\n",
            "[CV 1/5] END .......C=1000, gamma=1, kernel=rbf;, score=0.344 total time=   4.2s\n",
            "[CV 2/5] END .......C=1000, gamma=1, kernel=rbf;, score=0.395 total time=   4.3s\n",
            "[CV 3/5] END .......C=1000, gamma=1, kernel=rbf;, score=0.358 total time=   4.7s\n",
            "[CV 4/5] END .......C=1000, gamma=1, kernel=rbf;, score=0.355 total time=   4.2s\n",
            "[CV 5/5] END .......C=1000, gamma=1, kernel=rbf;, score=0.408 total time=   4.5s\n",
            "[CV 1/5] END .....C=1000, gamma=0.1, kernel=rbf;, score=0.344 total time=   4.7s\n",
            "[CV 2/5] END .....C=1000, gamma=0.1, kernel=rbf;, score=0.395 total time=   4.1s\n",
            "[CV 3/5] END .....C=1000, gamma=0.1, kernel=rbf;, score=0.358 total time=   4.7s\n",
            "[CV 4/5] END .....C=1000, gamma=0.1, kernel=rbf;, score=0.355 total time=   4.2s\n",
            "[CV 5/5] END .....C=1000, gamma=0.1, kernel=rbf;, score=0.408 total time=   4.1s\n",
            "[CV 1/5] END ....C=1000, gamma=0.01, kernel=rbf;, score=0.345 total time=   4.9s\n",
            "[CV 2/5] END ....C=1000, gamma=0.01, kernel=rbf;, score=0.395 total time=   4.1s\n",
            "[CV 3/5] END ....C=1000, gamma=0.01, kernel=rbf;, score=0.358 total time=   4.2s\n",
            "[CV 4/5] END ....C=1000, gamma=0.01, kernel=rbf;, score=0.355 total time=   4.8s\n",
            "[CV 5/5] END ....C=1000, gamma=0.01, kernel=rbf;, score=0.409 total time=   4.0s\n",
            "[CV 1/5] END ...C=1000, gamma=0.001, kernel=rbf;, score=0.713 total time=   2.3s\n",
            "[CV 2/5] END ...C=1000, gamma=0.001, kernel=rbf;, score=0.798 total time=   2.2s\n",
            "[CV 3/5] END ...C=1000, gamma=0.001, kernel=rbf;, score=0.780 total time=   2.8s\n",
            "[CV 4/5] END ...C=1000, gamma=0.001, kernel=rbf;, score=0.745 total time=   2.6s\n",
            "[CV 5/5] END ...C=1000, gamma=0.001, kernel=rbf;, score=0.723 total time=   2.3s\n",
            "[CV 1/5] END ..C=1000, gamma=0.0001, kernel=rbf;, score=0.742 total time=   1.3s\n",
            "[CV 2/5] END ..C=1000, gamma=0.0001, kernel=rbf;, score=0.813 total time=   1.4s\n",
            "[CV 3/5] END ..C=1000, gamma=0.0001, kernel=rbf;, score=0.783 total time=   1.3s\n",
            "[CV 4/5] END ..C=1000, gamma=0.0001, kernel=rbf;, score=0.771 total time=   1.3s\n",
            "[CV 5/5] END ..C=1000, gamma=0.0001, kernel=rbf;, score=0.792 total time=   1.6s\n",
            "Fitting 5 folds for each of 25 candidates, totalling 125 fits\n",
            "[CV 1/5] END ........C=0.1, gamma=1, kernel=rbf;, score=0.326 total time=   4.0s\n",
            "[CV 2/5] END ........C=0.1, gamma=1, kernel=rbf;, score=0.329 total time=   4.0s\n",
            "[CV 3/5] END ........C=0.1, gamma=1, kernel=rbf;, score=0.279 total time=   4.9s\n",
            "[CV 4/5] END ........C=0.1, gamma=1, kernel=rbf;, score=0.316 total time=   4.1s\n",
            "[CV 5/5] END ........C=0.1, gamma=1, kernel=rbf;, score=0.322 total time=   4.0s\n",
            "[CV 1/5] END ......C=0.1, gamma=0.1, kernel=rbf;, score=0.326 total time=   4.7s\n",
            "[CV 2/5] END ......C=0.1, gamma=0.1, kernel=rbf;, score=0.329 total time=   4.2s\n",
            "[CV 3/5] END ......C=0.1, gamma=0.1, kernel=rbf;, score=0.279 total time=   4.1s\n",
            "[CV 4/5] END ......C=0.1, gamma=0.1, kernel=rbf;, score=0.316 total time=   4.6s\n",
            "[CV 5/5] END ......C=0.1, gamma=0.1, kernel=rbf;, score=0.322 total time=   4.1s\n",
            "[CV 1/5] END .....C=0.1, gamma=0.01, kernel=rbf;, score=0.326 total time=   4.1s\n",
            "[CV 2/5] END .....C=0.1, gamma=0.01, kernel=rbf;, score=0.329 total time=   4.5s\n",
            "[CV 3/5] END .....C=0.1, gamma=0.01, kernel=rbf;, score=0.279 total time=   4.0s\n",
            "[CV 4/5] END .....C=0.1, gamma=0.01, kernel=rbf;, score=0.316 total time=   4.2s\n",
            "[CV 5/5] END .....C=0.1, gamma=0.01, kernel=rbf;, score=0.322 total time=   4.6s\n",
            "[CV 1/5] END ....C=0.1, gamma=0.001, kernel=rbf;, score=0.598 total time=   2.4s\n",
            "[CV 2/5] END ....C=0.1, gamma=0.001, kernel=rbf;, score=0.626 total time=   2.4s\n",
            "[CV 3/5] END ....C=0.1, gamma=0.001, kernel=rbf;, score=0.566 total time=   2.5s\n",
            "[CV 4/5] END ....C=0.1, gamma=0.001, kernel=rbf;, score=0.610 total time=   2.5s\n",
            "[CV 5/5] END ....C=0.1, gamma=0.001, kernel=rbf;, score=0.583 total time=   3.2s\n",
            "[CV 1/5] END ...C=0.1, gamma=0.0001, kernel=rbf;, score=0.649 total time=   2.1s\n",
            "[CV 2/5] END ...C=0.1, gamma=0.0001, kernel=rbf;, score=0.681 total time=   2.1s\n",
            "[CV 3/5] END ...C=0.1, gamma=0.0001, kernel=rbf;, score=0.591 total time=   2.1s\n",
            "[CV 4/5] END ...C=0.1, gamma=0.0001, kernel=rbf;, score=0.634 total time=   2.2s\n",
            "[CV 5/5] END ...C=0.1, gamma=0.0001, kernel=rbf;, score=0.616 total time=   2.5s\n",
            "[CV 1/5] END ..........C=1, gamma=1, kernel=rbf;, score=0.396 total time=   4.4s\n",
            "[CV 2/5] END ..........C=1, gamma=1, kernel=rbf;, score=0.379 total time=   4.1s\n",
            "[CV 3/5] END ..........C=1, gamma=1, kernel=rbf;, score=0.358 total time=   4.6s\n",
            "[CV 4/5] END ..........C=1, gamma=1, kernel=rbf;, score=0.346 total time=   4.3s\n",
            "[CV 5/5] END ..........C=1, gamma=1, kernel=rbf;, score=0.360 total time=   4.1s\n",
            "[CV 1/5] END ........C=1, gamma=0.1, kernel=rbf;, score=0.396 total time=   4.7s\n",
            "[CV 2/5] END ........C=1, gamma=0.1, kernel=rbf;, score=0.379 total time=   4.3s\n",
            "[CV 3/5] END ........C=1, gamma=0.1, kernel=rbf;, score=0.358 total time=   4.2s\n",
            "[CV 4/5] END ........C=1, gamma=0.1, kernel=rbf;, score=0.346 total time=   4.9s\n",
            "[CV 5/5] END ........C=1, gamma=0.1, kernel=rbf;, score=0.360 total time=   4.1s\n",
            "[CV 1/5] END .......C=1, gamma=0.01, kernel=rbf;, score=0.396 total time=   3.9s\n",
            "[CV 2/5] END .......C=1, gamma=0.01, kernel=rbf;, score=0.379 total time=   4.6s\n",
            "[CV 3/5] END .......C=1, gamma=0.01, kernel=rbf;, score=0.358 total time=   4.1s\n",
            "[CV 4/5] END .......C=1, gamma=0.01, kernel=rbf;, score=0.346 total time=   4.0s\n",
            "[CV 5/5] END .......C=1, gamma=0.01, kernel=rbf;, score=0.360 total time=   4.6s\n",
            "[CV 1/5] END ......C=1, gamma=0.001, kernel=rbf;, score=0.723 total time=   2.3s\n",
            "[CV 2/5] END ......C=1, gamma=0.001, kernel=rbf;, score=0.732 total time=   2.3s\n",
            "[CV 3/5] END ......C=1, gamma=0.001, kernel=rbf;, score=0.696 total time=   2.2s\n",
            "[CV 4/5] END ......C=1, gamma=0.001, kernel=rbf;, score=0.725 total time=   2.2s\n",
            "[CV 5/5] END ......C=1, gamma=0.001, kernel=rbf;, score=0.685 total time=   2.7s\n",
            "[CV 1/5] END .....C=1, gamma=0.0001, kernel=rbf;, score=0.691 total time=   1.9s\n",
            "[CV 2/5] END .....C=1, gamma=0.0001, kernel=rbf;, score=0.710 total time=   1.5s\n",
            "[CV 3/5] END .....C=1, gamma=0.0001, kernel=rbf;, score=0.625 total time=   1.5s\n",
            "[CV 4/5] END .....C=1, gamma=0.0001, kernel=rbf;, score=0.657 total time=   1.5s\n",
            "[CV 5/5] END .....C=1, gamma=0.0001, kernel=rbf;, score=0.645 total time=   1.5s\n",
            "[CV 1/5] END .........C=10, gamma=1, kernel=rbf;, score=0.396 total time=   4.2s\n",
            "[CV 2/5] END .........C=10, gamma=1, kernel=rbf;, score=0.379 total time=   4.4s\n",
            "[CV 3/5] END .........C=10, gamma=1, kernel=rbf;, score=0.358 total time=   3.9s\n",
            "[CV 4/5] END .........C=10, gamma=1, kernel=rbf;, score=0.346 total time=   4.1s\n",
            "[CV 5/5] END .........C=10, gamma=1, kernel=rbf;, score=0.360 total time=   4.6s\n",
            "[CV 1/5] END .......C=10, gamma=0.1, kernel=rbf;, score=0.396 total time=   4.1s\n",
            "[CV 2/5] END .......C=10, gamma=0.1, kernel=rbf;, score=0.379 total time=   4.2s\n",
            "[CV 3/5] END .......C=10, gamma=0.1, kernel=rbf;, score=0.358 total time=   4.4s\n",
            "[CV 4/5] END .......C=10, gamma=0.1, kernel=rbf;, score=0.346 total time=   4.0s\n",
            "[CV 5/5] END .......C=10, gamma=0.1, kernel=rbf;, score=0.360 total time=   4.2s\n",
            "[CV 1/5] END ......C=10, gamma=0.01, kernel=rbf;, score=0.396 total time=   4.6s\n",
            "[CV 2/5] END ......C=10, gamma=0.01, kernel=rbf;, score=0.379 total time=   4.0s\n",
            "[CV 3/5] END ......C=10, gamma=0.01, kernel=rbf;, score=0.358 total time=   4.4s\n",
            "[CV 4/5] END ......C=10, gamma=0.01, kernel=rbf;, score=0.346 total time=   4.3s\n",
            "[CV 5/5] END ......C=10, gamma=0.01, kernel=rbf;, score=0.360 total time=   4.0s\n",
            "[CV 1/5] END .....C=10, gamma=0.001, kernel=rbf;, score=0.751 total time=   2.4s\n",
            "[CV 2/5] END .....C=10, gamma=0.001, kernel=rbf;, score=0.758 total time=   2.9s\n",
            "[CV 3/5] END .....C=10, gamma=0.001, kernel=rbf;, score=0.709 total time=   2.6s\n",
            "[CV 4/5] END .....C=10, gamma=0.001, kernel=rbf;, score=0.744 total time=   2.3s\n",
            "[CV 5/5] END .....C=10, gamma=0.001, kernel=rbf;, score=0.709 total time=   2.5s\n",
            "[CV 1/5] END ....C=10, gamma=0.0001, kernel=rbf;, score=0.780 total time=   1.3s\n",
            "[CV 2/5] END ....C=10, gamma=0.0001, kernel=rbf;, score=0.795 total time=   1.2s\n",
            "[CV 3/5] END ....C=10, gamma=0.0001, kernel=rbf;, score=0.776 total time=   1.5s\n",
            "[CV 4/5] END ....C=10, gamma=0.0001, kernel=rbf;, score=0.763 total time=   1.7s\n",
            "[CV 5/5] END ....C=10, gamma=0.0001, kernel=rbf;, score=0.767 total time=   1.5s\n",
            "[CV 1/5] END ........C=100, gamma=1, kernel=rbf;, score=0.396 total time=   3.9s\n",
            "[CV 2/5] END ........C=100, gamma=1, kernel=rbf;, score=0.379 total time=   4.1s\n",
            "[CV 3/5] END ........C=100, gamma=1, kernel=rbf;, score=0.358 total time=   4.9s\n",
            "[CV 4/5] END ........C=100, gamma=1, kernel=rbf;, score=0.346 total time=   3.9s\n",
            "[CV 5/5] END ........C=100, gamma=1, kernel=rbf;, score=0.360 total time=   4.0s\n",
            "[CV 1/5] END ......C=100, gamma=0.1, kernel=rbf;, score=0.396 total time=   4.9s\n",
            "[CV 2/5] END ......C=100, gamma=0.1, kernel=rbf;, score=0.379 total time=   4.1s\n",
            "[CV 3/5] END ......C=100, gamma=0.1, kernel=rbf;, score=0.358 total time=   3.9s\n",
            "[CV 4/5] END ......C=100, gamma=0.1, kernel=rbf;, score=0.346 total time=   5.1s\n",
            "[CV 5/5] END ......C=100, gamma=0.1, kernel=rbf;, score=0.360 total time=   4.2s\n",
            "[CV 1/5] END .....C=100, gamma=0.01, kernel=rbf;, score=0.396 total time=   4.1s\n",
            "[CV 2/5] END .....C=100, gamma=0.01, kernel=rbf;, score=0.379 total time=   4.7s\n",
            "[CV 3/5] END .....C=100, gamma=0.01, kernel=rbf;, score=0.358 total time=   4.1s\n",
            "[CV 4/5] END .....C=100, gamma=0.01, kernel=rbf;, score=0.346 total time=   4.3s\n",
            "[CV 5/5] END .....C=100, gamma=0.01, kernel=rbf;, score=0.360 total time=   4.7s\n",
            "[CV 1/5] END ....C=100, gamma=0.001, kernel=rbf;, score=0.751 total time=   2.4s\n",
            "[CV 2/5] END ....C=100, gamma=0.001, kernel=rbf;, score=0.758 total time=   2.6s\n",
            "[CV 3/5] END ....C=100, gamma=0.001, kernel=rbf;, score=0.709 total time=   2.6s\n",
            "[CV 4/5] END ....C=100, gamma=0.001, kernel=rbf;, score=0.744 total time=   3.1s\n",
            "[CV 5/5] END ....C=100, gamma=0.001, kernel=rbf;, score=0.709 total time=   2.6s\n",
            "[CV 1/5] END ...C=100, gamma=0.0001, kernel=rbf;, score=0.748 total time=   1.5s\n",
            "[CV 2/5] END ...C=100, gamma=0.0001, kernel=rbf;, score=0.766 total time=   1.5s\n",
            "[CV 3/5] END ...C=100, gamma=0.0001, kernel=rbf;, score=0.786 total time=   1.4s\n",
            "[CV 4/5] END ...C=100, gamma=0.0001, kernel=rbf;, score=0.730 total time=   1.5s\n",
            "[CV 5/5] END ...C=100, gamma=0.0001, kernel=rbf;, score=0.741 total time=   2.0s\n",
            "[CV 1/5] END .......C=1000, gamma=1, kernel=rbf;, score=0.396 total time=   4.4s\n",
            "[CV 2/5] END .......C=1000, gamma=1, kernel=rbf;, score=0.379 total time=   3.9s\n",
            "[CV 3/5] END .......C=1000, gamma=1, kernel=rbf;, score=0.358 total time=   4.3s\n",
            "[CV 4/5] END .......C=1000, gamma=1, kernel=rbf;, score=0.346 total time=   4.4s\n",
            "[CV 5/5] END .......C=1000, gamma=1, kernel=rbf;, score=0.360 total time=   3.9s\n",
            "[CV 1/5] END .....C=1000, gamma=0.1, kernel=rbf;, score=0.396 total time=   4.4s\n",
            "[CV 2/5] END .....C=1000, gamma=0.1, kernel=rbf;, score=0.379 total time=   4.4s\n",
            "[CV 3/5] END .....C=1000, gamma=0.1, kernel=rbf;, score=0.358 total time=   4.2s\n",
            "[CV 4/5] END .....C=1000, gamma=0.1, kernel=rbf;, score=0.346 total time=   4.4s\n",
            "[CV 5/5] END .....C=1000, gamma=0.1, kernel=rbf;, score=0.360 total time=   4.5s\n",
            "[CV 1/5] END ....C=1000, gamma=0.01, kernel=rbf;, score=0.396 total time=   4.1s\n",
            "[CV 2/5] END ....C=1000, gamma=0.01, kernel=rbf;, score=0.379 total time=   4.5s\n",
            "[CV 3/5] END ....C=1000, gamma=0.01, kernel=rbf;, score=0.358 total time=   4.5s\n",
            "[CV 4/5] END ....C=1000, gamma=0.01, kernel=rbf;, score=0.346 total time=   4.1s\n",
            "[CV 5/5] END ....C=1000, gamma=0.01, kernel=rbf;, score=0.360 total time=   4.6s\n",
            "[CV 1/5] END ...C=1000, gamma=0.001, kernel=rbf;, score=0.751 total time=   2.6s\n",
            "[CV 2/5] END ...C=1000, gamma=0.001, kernel=rbf;, score=0.758 total time=   2.3s\n",
            "[CV 3/5] END ...C=1000, gamma=0.001, kernel=rbf;, score=0.709 total time=   2.3s\n",
            "[CV 4/5] END ...C=1000, gamma=0.001, kernel=rbf;, score=0.744 total time=   2.4s\n",
            "[CV 5/5] END ...C=1000, gamma=0.001, kernel=rbf;, score=0.709 total time=   3.0s\n",
            "[CV 1/5] END ..C=1000, gamma=0.0001, kernel=rbf;, score=0.748 total time=   1.6s\n",
            "[CV 2/5] END ..C=1000, gamma=0.0001, kernel=rbf;, score=0.762 total time=   1.4s\n",
            "[CV 3/5] END ..C=1000, gamma=0.0001, kernel=rbf;, score=0.788 total time=   1.4s\n",
            "[CV 4/5] END ..C=1000, gamma=0.0001, kernel=rbf;, score=0.734 total time=   1.4s\n",
            "[CV 5/5] END ..C=1000, gamma=0.0001, kernel=rbf;, score=0.747 total time=   1.4s\n"
          ]
        }
      ]
    },
    {
      "cell_type": "code",
      "source": [
        "models"
      ],
      "metadata": {
        "colab": {
          "base_uri": "https://localhost:8080/"
        },
        "id": "R7AlQ1-gFLl9",
        "outputId": "1abb795a-30e1-4668-ffd0-d58924ec2569"
      },
      "execution_count": null,
      "outputs": [
        {
          "output_type": "execute_result",
          "data": {
            "text/plain": [
              "[SVC(C=10, gamma=0.0001), SVC(C=10, gamma=0.0001), SVC(C=10, gamma=0.0001)]"
            ]
          },
          "metadata": {},
          "execution_count": 53
        }
      ]
    },
    {
      "cell_type": "code",
      "source": [
        "metrics"
      ],
      "metadata": {
        "colab": {
          "base_uri": "https://localhost:8080/"
        },
        "id": "ijjuULB3FNSV",
        "outputId": "afcfa2c6-ad91-4531-8e19-46b41e057541"
      },
      "execution_count": null,
      "outputs": [
        {
          "output_type": "execute_result",
          "data": {
            "text/plain": [
              "[np.float64(0.7872500015751106),\n",
              " np.float64(0.7921503785048365),\n",
              " np.float64(0.7760589929986779)]"
            ]
          },
          "metadata": {},
          "execution_count": 54
        }
      ]
    },
    {
      "cell_type": "code",
      "source": [
        "np.mean(metrics), np.std(metrics)"
      ],
      "metadata": {
        "colab": {
          "base_uri": "https://localhost:8080/"
        },
        "id": "f8OGki2OFqAM",
        "outputId": "3b15d433-5146-4df2-89be-ce6bf7badaab"
      },
      "execution_count": null,
      "outputs": [
        {
          "output_type": "execute_result",
          "data": {
            "text/plain": [
              "(np.float64(0.7851531243595417), np.float64(0.006734530046451256))"
            ]
          },
          "metadata": {},
          "execution_count": 60
        }
      ]
    },
    {
      "cell_type": "code",
      "source": [
        "best_model = models[np.argmax(metrics)]\n",
        "best_model"
      ],
      "metadata": {
        "colab": {
          "base_uri": "https://localhost:8080/",
          "height": 80
        },
        "id": "H5YUp5X6FPMs",
        "outputId": "e0d49145-c8b7-4904-e140-760418da2dec"
      },
      "execution_count": null,
      "outputs": [
        {
          "output_type": "execute_result",
          "data": {
            "text/plain": [
              "SVC(C=10, gamma=0.0001)"
            ],
            "text/html": [
              "<style>#sk-container-id-1 {\n",
              "  /* Definition of color scheme common for light and dark mode */\n",
              "  --sklearn-color-text: #000;\n",
              "  --sklearn-color-text-muted: #666;\n",
              "  --sklearn-color-line: gray;\n",
              "  /* Definition of color scheme for unfitted estimators */\n",
              "  --sklearn-color-unfitted-level-0: #fff5e6;\n",
              "  --sklearn-color-unfitted-level-1: #f6e4d2;\n",
              "  --sklearn-color-unfitted-level-2: #ffe0b3;\n",
              "  --sklearn-color-unfitted-level-3: chocolate;\n",
              "  /* Definition of color scheme for fitted estimators */\n",
              "  --sklearn-color-fitted-level-0: #f0f8ff;\n",
              "  --sklearn-color-fitted-level-1: #d4ebff;\n",
              "  --sklearn-color-fitted-level-2: #b3dbfd;\n",
              "  --sklearn-color-fitted-level-3: cornflowerblue;\n",
              "\n",
              "  /* Specific color for light theme */\n",
              "  --sklearn-color-text-on-default-background: var(--sg-text-color, var(--theme-code-foreground, var(--jp-content-font-color1, black)));\n",
              "  --sklearn-color-background: var(--sg-background-color, var(--theme-background, var(--jp-layout-color0, white)));\n",
              "  --sklearn-color-border-box: var(--sg-text-color, var(--theme-code-foreground, var(--jp-content-font-color1, black)));\n",
              "  --sklearn-color-icon: #696969;\n",
              "\n",
              "  @media (prefers-color-scheme: dark) {\n",
              "    /* Redefinition of color scheme for dark theme */\n",
              "    --sklearn-color-text-on-default-background: var(--sg-text-color, var(--theme-code-foreground, var(--jp-content-font-color1, white)));\n",
              "    --sklearn-color-background: var(--sg-background-color, var(--theme-background, var(--jp-layout-color0, #111)));\n",
              "    --sklearn-color-border-box: var(--sg-text-color, var(--theme-code-foreground, var(--jp-content-font-color1, white)));\n",
              "    --sklearn-color-icon: #878787;\n",
              "  }\n",
              "}\n",
              "\n",
              "#sk-container-id-1 {\n",
              "  color: var(--sklearn-color-text);\n",
              "}\n",
              "\n",
              "#sk-container-id-1 pre {\n",
              "  padding: 0;\n",
              "}\n",
              "\n",
              "#sk-container-id-1 input.sk-hidden--visually {\n",
              "  border: 0;\n",
              "  clip: rect(1px 1px 1px 1px);\n",
              "  clip: rect(1px, 1px, 1px, 1px);\n",
              "  height: 1px;\n",
              "  margin: -1px;\n",
              "  overflow: hidden;\n",
              "  padding: 0;\n",
              "  position: absolute;\n",
              "  width: 1px;\n",
              "}\n",
              "\n",
              "#sk-container-id-1 div.sk-dashed-wrapped {\n",
              "  border: 1px dashed var(--sklearn-color-line);\n",
              "  margin: 0 0.4em 0.5em 0.4em;\n",
              "  box-sizing: border-box;\n",
              "  padding-bottom: 0.4em;\n",
              "  background-color: var(--sklearn-color-background);\n",
              "}\n",
              "\n",
              "#sk-container-id-1 div.sk-container {\n",
              "  /* jupyter's `normalize.less` sets `[hidden] { display: none; }`\n",
              "     but bootstrap.min.css set `[hidden] { display: none !important; }`\n",
              "     so we also need the `!important` here to be able to override the\n",
              "     default hidden behavior on the sphinx rendered scikit-learn.org.\n",
              "     See: https://github.com/scikit-learn/scikit-learn/issues/21755 */\n",
              "  display: inline-block !important;\n",
              "  position: relative;\n",
              "}\n",
              "\n",
              "#sk-container-id-1 div.sk-text-repr-fallback {\n",
              "  display: none;\n",
              "}\n",
              "\n",
              "div.sk-parallel-item,\n",
              "div.sk-serial,\n",
              "div.sk-item {\n",
              "  /* draw centered vertical line to link estimators */\n",
              "  background-image: linear-gradient(var(--sklearn-color-text-on-default-background), var(--sklearn-color-text-on-default-background));\n",
              "  background-size: 2px 100%;\n",
              "  background-repeat: no-repeat;\n",
              "  background-position: center center;\n",
              "}\n",
              "\n",
              "/* Parallel-specific style estimator block */\n",
              "\n",
              "#sk-container-id-1 div.sk-parallel-item::after {\n",
              "  content: \"\";\n",
              "  width: 100%;\n",
              "  border-bottom: 2px solid var(--sklearn-color-text-on-default-background);\n",
              "  flex-grow: 1;\n",
              "}\n",
              "\n",
              "#sk-container-id-1 div.sk-parallel {\n",
              "  display: flex;\n",
              "  align-items: stretch;\n",
              "  justify-content: center;\n",
              "  background-color: var(--sklearn-color-background);\n",
              "  position: relative;\n",
              "}\n",
              "\n",
              "#sk-container-id-1 div.sk-parallel-item {\n",
              "  display: flex;\n",
              "  flex-direction: column;\n",
              "}\n",
              "\n",
              "#sk-container-id-1 div.sk-parallel-item:first-child::after {\n",
              "  align-self: flex-end;\n",
              "  width: 50%;\n",
              "}\n",
              "\n",
              "#sk-container-id-1 div.sk-parallel-item:last-child::after {\n",
              "  align-self: flex-start;\n",
              "  width: 50%;\n",
              "}\n",
              "\n",
              "#sk-container-id-1 div.sk-parallel-item:only-child::after {\n",
              "  width: 0;\n",
              "}\n",
              "\n",
              "/* Serial-specific style estimator block */\n",
              "\n",
              "#sk-container-id-1 div.sk-serial {\n",
              "  display: flex;\n",
              "  flex-direction: column;\n",
              "  align-items: center;\n",
              "  background-color: var(--sklearn-color-background);\n",
              "  padding-right: 1em;\n",
              "  padding-left: 1em;\n",
              "}\n",
              "\n",
              "\n",
              "/* Toggleable style: style used for estimator/Pipeline/ColumnTransformer box that is\n",
              "clickable and can be expanded/collapsed.\n",
              "- Pipeline and ColumnTransformer use this feature and define the default style\n",
              "- Estimators will overwrite some part of the style using the `sk-estimator` class\n",
              "*/\n",
              "\n",
              "/* Pipeline and ColumnTransformer style (default) */\n",
              "\n",
              "#sk-container-id-1 div.sk-toggleable {\n",
              "  /* Default theme specific background. It is overwritten whether we have a\n",
              "  specific estimator or a Pipeline/ColumnTransformer */\n",
              "  background-color: var(--sklearn-color-background);\n",
              "}\n",
              "\n",
              "/* Toggleable label */\n",
              "#sk-container-id-1 label.sk-toggleable__label {\n",
              "  cursor: pointer;\n",
              "  display: flex;\n",
              "  width: 100%;\n",
              "  margin-bottom: 0;\n",
              "  padding: 0.5em;\n",
              "  box-sizing: border-box;\n",
              "  text-align: center;\n",
              "  align-items: start;\n",
              "  justify-content: space-between;\n",
              "  gap: 0.5em;\n",
              "}\n",
              "\n",
              "#sk-container-id-1 label.sk-toggleable__label .caption {\n",
              "  font-size: 0.6rem;\n",
              "  font-weight: lighter;\n",
              "  color: var(--sklearn-color-text-muted);\n",
              "}\n",
              "\n",
              "#sk-container-id-1 label.sk-toggleable__label-arrow:before {\n",
              "  /* Arrow on the left of the label */\n",
              "  content: \"▸\";\n",
              "  float: left;\n",
              "  margin-right: 0.25em;\n",
              "  color: var(--sklearn-color-icon);\n",
              "}\n",
              "\n",
              "#sk-container-id-1 label.sk-toggleable__label-arrow:hover:before {\n",
              "  color: var(--sklearn-color-text);\n",
              "}\n",
              "\n",
              "/* Toggleable content - dropdown */\n",
              "\n",
              "#sk-container-id-1 div.sk-toggleable__content {\n",
              "  max-height: 0;\n",
              "  max-width: 0;\n",
              "  overflow: hidden;\n",
              "  text-align: left;\n",
              "  /* unfitted */\n",
              "  background-color: var(--sklearn-color-unfitted-level-0);\n",
              "}\n",
              "\n",
              "#sk-container-id-1 div.sk-toggleable__content.fitted {\n",
              "  /* fitted */\n",
              "  background-color: var(--sklearn-color-fitted-level-0);\n",
              "}\n",
              "\n",
              "#sk-container-id-1 div.sk-toggleable__content pre {\n",
              "  margin: 0.2em;\n",
              "  border-radius: 0.25em;\n",
              "  color: var(--sklearn-color-text);\n",
              "  /* unfitted */\n",
              "  background-color: var(--sklearn-color-unfitted-level-0);\n",
              "}\n",
              "\n",
              "#sk-container-id-1 div.sk-toggleable__content.fitted pre {\n",
              "  /* unfitted */\n",
              "  background-color: var(--sklearn-color-fitted-level-0);\n",
              "}\n",
              "\n",
              "#sk-container-id-1 input.sk-toggleable__control:checked~div.sk-toggleable__content {\n",
              "  /* Expand drop-down */\n",
              "  max-height: 200px;\n",
              "  max-width: 100%;\n",
              "  overflow: auto;\n",
              "}\n",
              "\n",
              "#sk-container-id-1 input.sk-toggleable__control:checked~label.sk-toggleable__label-arrow:before {\n",
              "  content: \"▾\";\n",
              "}\n",
              "\n",
              "/* Pipeline/ColumnTransformer-specific style */\n",
              "\n",
              "#sk-container-id-1 div.sk-label input.sk-toggleable__control:checked~label.sk-toggleable__label {\n",
              "  color: var(--sklearn-color-text);\n",
              "  background-color: var(--sklearn-color-unfitted-level-2);\n",
              "}\n",
              "\n",
              "#sk-container-id-1 div.sk-label.fitted input.sk-toggleable__control:checked~label.sk-toggleable__label {\n",
              "  background-color: var(--sklearn-color-fitted-level-2);\n",
              "}\n",
              "\n",
              "/* Estimator-specific style */\n",
              "\n",
              "/* Colorize estimator box */\n",
              "#sk-container-id-1 div.sk-estimator input.sk-toggleable__control:checked~label.sk-toggleable__label {\n",
              "  /* unfitted */\n",
              "  background-color: var(--sklearn-color-unfitted-level-2);\n",
              "}\n",
              "\n",
              "#sk-container-id-1 div.sk-estimator.fitted input.sk-toggleable__control:checked~label.sk-toggleable__label {\n",
              "  /* fitted */\n",
              "  background-color: var(--sklearn-color-fitted-level-2);\n",
              "}\n",
              "\n",
              "#sk-container-id-1 div.sk-label label.sk-toggleable__label,\n",
              "#sk-container-id-1 div.sk-label label {\n",
              "  /* The background is the default theme color */\n",
              "  color: var(--sklearn-color-text-on-default-background);\n",
              "}\n",
              "\n",
              "/* On hover, darken the color of the background */\n",
              "#sk-container-id-1 div.sk-label:hover label.sk-toggleable__label {\n",
              "  color: var(--sklearn-color-text);\n",
              "  background-color: var(--sklearn-color-unfitted-level-2);\n",
              "}\n",
              "\n",
              "/* Label box, darken color on hover, fitted */\n",
              "#sk-container-id-1 div.sk-label.fitted:hover label.sk-toggleable__label.fitted {\n",
              "  color: var(--sklearn-color-text);\n",
              "  background-color: var(--sklearn-color-fitted-level-2);\n",
              "}\n",
              "\n",
              "/* Estimator label */\n",
              "\n",
              "#sk-container-id-1 div.sk-label label {\n",
              "  font-family: monospace;\n",
              "  font-weight: bold;\n",
              "  display: inline-block;\n",
              "  line-height: 1.2em;\n",
              "}\n",
              "\n",
              "#sk-container-id-1 div.sk-label-container {\n",
              "  text-align: center;\n",
              "}\n",
              "\n",
              "/* Estimator-specific */\n",
              "#sk-container-id-1 div.sk-estimator {\n",
              "  font-family: monospace;\n",
              "  border: 1px dotted var(--sklearn-color-border-box);\n",
              "  border-radius: 0.25em;\n",
              "  box-sizing: border-box;\n",
              "  margin-bottom: 0.5em;\n",
              "  /* unfitted */\n",
              "  background-color: var(--sklearn-color-unfitted-level-0);\n",
              "}\n",
              "\n",
              "#sk-container-id-1 div.sk-estimator.fitted {\n",
              "  /* fitted */\n",
              "  background-color: var(--sklearn-color-fitted-level-0);\n",
              "}\n",
              "\n",
              "/* on hover */\n",
              "#sk-container-id-1 div.sk-estimator:hover {\n",
              "  /* unfitted */\n",
              "  background-color: var(--sklearn-color-unfitted-level-2);\n",
              "}\n",
              "\n",
              "#sk-container-id-1 div.sk-estimator.fitted:hover {\n",
              "  /* fitted */\n",
              "  background-color: var(--sklearn-color-fitted-level-2);\n",
              "}\n",
              "\n",
              "/* Specification for estimator info (e.g. \"i\" and \"?\") */\n",
              "\n",
              "/* Common style for \"i\" and \"?\" */\n",
              "\n",
              ".sk-estimator-doc-link,\n",
              "a:link.sk-estimator-doc-link,\n",
              "a:visited.sk-estimator-doc-link {\n",
              "  float: right;\n",
              "  font-size: smaller;\n",
              "  line-height: 1em;\n",
              "  font-family: monospace;\n",
              "  background-color: var(--sklearn-color-background);\n",
              "  border-radius: 1em;\n",
              "  height: 1em;\n",
              "  width: 1em;\n",
              "  text-decoration: none !important;\n",
              "  margin-left: 0.5em;\n",
              "  text-align: center;\n",
              "  /* unfitted */\n",
              "  border: var(--sklearn-color-unfitted-level-1) 1pt solid;\n",
              "  color: var(--sklearn-color-unfitted-level-1);\n",
              "}\n",
              "\n",
              ".sk-estimator-doc-link.fitted,\n",
              "a:link.sk-estimator-doc-link.fitted,\n",
              "a:visited.sk-estimator-doc-link.fitted {\n",
              "  /* fitted */\n",
              "  border: var(--sklearn-color-fitted-level-1) 1pt solid;\n",
              "  color: var(--sklearn-color-fitted-level-1);\n",
              "}\n",
              "\n",
              "/* On hover */\n",
              "div.sk-estimator:hover .sk-estimator-doc-link:hover,\n",
              ".sk-estimator-doc-link:hover,\n",
              "div.sk-label-container:hover .sk-estimator-doc-link:hover,\n",
              ".sk-estimator-doc-link:hover {\n",
              "  /* unfitted */\n",
              "  background-color: var(--sklearn-color-unfitted-level-3);\n",
              "  color: var(--sklearn-color-background);\n",
              "  text-decoration: none;\n",
              "}\n",
              "\n",
              "div.sk-estimator.fitted:hover .sk-estimator-doc-link.fitted:hover,\n",
              ".sk-estimator-doc-link.fitted:hover,\n",
              "div.sk-label-container:hover .sk-estimator-doc-link.fitted:hover,\n",
              ".sk-estimator-doc-link.fitted:hover {\n",
              "  /* fitted */\n",
              "  background-color: var(--sklearn-color-fitted-level-3);\n",
              "  color: var(--sklearn-color-background);\n",
              "  text-decoration: none;\n",
              "}\n",
              "\n",
              "/* Span, style for the box shown on hovering the info icon */\n",
              ".sk-estimator-doc-link span {\n",
              "  display: none;\n",
              "  z-index: 9999;\n",
              "  position: relative;\n",
              "  font-weight: normal;\n",
              "  right: .2ex;\n",
              "  padding: .5ex;\n",
              "  margin: .5ex;\n",
              "  width: min-content;\n",
              "  min-width: 20ex;\n",
              "  max-width: 50ex;\n",
              "  color: var(--sklearn-color-text);\n",
              "  box-shadow: 2pt 2pt 4pt #999;\n",
              "  /* unfitted */\n",
              "  background: var(--sklearn-color-unfitted-level-0);\n",
              "  border: .5pt solid var(--sklearn-color-unfitted-level-3);\n",
              "}\n",
              "\n",
              ".sk-estimator-doc-link.fitted span {\n",
              "  /* fitted */\n",
              "  background: var(--sklearn-color-fitted-level-0);\n",
              "  border: var(--sklearn-color-fitted-level-3);\n",
              "}\n",
              "\n",
              ".sk-estimator-doc-link:hover span {\n",
              "  display: block;\n",
              "}\n",
              "\n",
              "/* \"?\"-specific style due to the `<a>` HTML tag */\n",
              "\n",
              "#sk-container-id-1 a.estimator_doc_link {\n",
              "  float: right;\n",
              "  font-size: 1rem;\n",
              "  line-height: 1em;\n",
              "  font-family: monospace;\n",
              "  background-color: var(--sklearn-color-background);\n",
              "  border-radius: 1rem;\n",
              "  height: 1rem;\n",
              "  width: 1rem;\n",
              "  text-decoration: none;\n",
              "  /* unfitted */\n",
              "  color: var(--sklearn-color-unfitted-level-1);\n",
              "  border: var(--sklearn-color-unfitted-level-1) 1pt solid;\n",
              "}\n",
              "\n",
              "#sk-container-id-1 a.estimator_doc_link.fitted {\n",
              "  /* fitted */\n",
              "  border: var(--sklearn-color-fitted-level-1) 1pt solid;\n",
              "  color: var(--sklearn-color-fitted-level-1);\n",
              "}\n",
              "\n",
              "/* On hover */\n",
              "#sk-container-id-1 a.estimator_doc_link:hover {\n",
              "  /* unfitted */\n",
              "  background-color: var(--sklearn-color-unfitted-level-3);\n",
              "  color: var(--sklearn-color-background);\n",
              "  text-decoration: none;\n",
              "}\n",
              "\n",
              "#sk-container-id-1 a.estimator_doc_link.fitted:hover {\n",
              "  /* fitted */\n",
              "  background-color: var(--sklearn-color-fitted-level-3);\n",
              "}\n",
              "</style><div id=\"sk-container-id-1\" class=\"sk-top-container\"><div class=\"sk-text-repr-fallback\"><pre>SVC(C=10, gamma=0.0001)</pre><b>In a Jupyter environment, please rerun this cell to show the HTML representation or trust the notebook. <br />On GitHub, the HTML representation is unable to render, please try loading this page with nbviewer.org.</b></div><div class=\"sk-container\" hidden><div class=\"sk-item\"><div class=\"sk-estimator fitted sk-toggleable\"><input class=\"sk-toggleable__control sk-hidden--visually\" id=\"sk-estimator-id-1\" type=\"checkbox\" checked><label for=\"sk-estimator-id-1\" class=\"sk-toggleable__label fitted sk-toggleable__label-arrow\"><div><div>SVC</div></div><div><a class=\"sk-estimator-doc-link fitted\" rel=\"noreferrer\" target=\"_blank\" href=\"https://scikit-learn.org/1.6/modules/generated/sklearn.svm.SVC.html\">?<span>Documentation for SVC</span></a><span class=\"sk-estimator-doc-link fitted\">i<span>Fitted</span></span></div></label><div class=\"sk-toggleable__content fitted\"><pre>SVC(C=10, gamma=0.0001)</pre></div> </div></div></div></div>"
            ]
          },
          "metadata": {},
          "execution_count": 57
        }
      ]
    },
    {
      "cell_type": "code",
      "metadata": {
        "colab": {
          "base_uri": "https://localhost:8080/"
        },
        "id": "5c9eca24",
        "outputId": "d5bf6ddb-3749-45c7-c375-9534ef4a6f35"
      },
      "source": [
        "import joblib\n",
        "\n",
        "# Define the filename for your model\n",
        "model_filename = 'best_svc_model.joblib'\n",
        "\n",
        "# Save the model to the file\n",
        "joblib.dump(best_model, model_filename)\n",
        "\n",
        "print(f\"Model saved to {model_filename}\")"
      ],
      "execution_count": null,
      "outputs": [
        {
          "output_type": "stream",
          "name": "stdout",
          "text": [
            "Model saved to best_svc_model.joblib\n"
          ]
        }
      ]
    },
    {
      "cell_type": "code",
      "source": [
        "joblib.dump(models[0], 'best_svc_model_0.joblib')\n",
        "joblib.dump(models[1], 'best_svc_model_1.joblib')\n",
        "joblib.dump(models[2], 'best_svc_model_2.joblib')"
      ],
      "metadata": {
        "colab": {
          "base_uri": "https://localhost:8080/"
        },
        "id": "uKLxQEBeH9Vt",
        "outputId": "7d94aaff-61f3-4f63-fb3c-8c2a2f702bc9"
      },
      "execution_count": null,
      "outputs": [
        {
          "output_type": "execute_result",
          "data": {
            "text/plain": [
              "['best_svc_model_2.joblib']"
            ]
          },
          "metadata": {},
          "execution_count": 70
        }
      ]
    },
    {
      "cell_type": "code",
      "source": [
        "f1_scorer(best_model, X_val, y_val)"
      ],
      "metadata": {
        "colab": {
          "base_uri": "https://localhost:8080/"
        },
        "id": "skHK_AtPF3M0",
        "outputId": "03af4729-d7b9-4e18-a32a-d52838ddb4d2"
      },
      "execution_count": null,
      "outputs": [
        {
          "output_type": "execute_result",
          "data": {
            "text/plain": [
              "0.7868899337012688"
            ]
          },
          "metadata": {},
          "execution_count": 64
        }
      ]
    },
    {
      "cell_type": "code",
      "source": [
        "from sklearn.metrics import accuracy_score, precision_score, recall_score, f1_score, cohen_kappa_score, ConfusionMatrixDisplay\n",
        "\n",
        "y_pred = best_model.predict(X_val)\n",
        "\n",
        "print(\"Accuracy:\", accuracy_score(y_val, y_pred))\n",
        "print(\"Precision:\", precision_score(y_val, y_pred, average='weighted'))\n",
        "print(\"Recall:\", recall_score(y_val, y_pred, average='weighted'))\n",
        "print(\"F1score:\", f1_score(y_val, y_pred, average='weighted'))\n",
        "print(\"Kappa:\", cohen_kappa_score(y_val, y_pred, weights='quadratic'))\n",
        "\n",
        "ConfusionMatrixDisplay.from_predictions(y_val, y_pred)"
      ],
      "metadata": {
        "colab": {
          "base_uri": "https://localhost:8080/",
          "height": 562
        },
        "id": "9yealc5RGA2t",
        "outputId": "d7ba145a-579f-4aec-8c9a-da78936d100c"
      },
      "execution_count": null,
      "outputs": [
        {
          "output_type": "stream",
          "name": "stdout",
          "text": [
            "Accuracy: 0.800818553888131\n",
            "Precision: 0.7892693063720824\n",
            "Recall: 0.800818553888131\n",
            "F1score: 0.7868899337012688\n",
            "Kappa: 0.8649576923583056\n"
          ]
        },
        {
          "output_type": "execute_result",
          "data": {
            "text/plain": [
              "<sklearn.metrics._plot.confusion_matrix.ConfusionMatrixDisplay at 0x7b1ba69a6810>"
            ]
          },
          "metadata": {},
          "execution_count": 69
        },
        {
          "output_type": "display_data",
          "data": {
            "text/plain": [
              "<Figure size 640x480 with 2 Axes>"
            ],
            "image/png": "[encoded data removed]"
          },
          "metadata": {}
        }
      ]
    },
    {
      "cell_type": "code",
      "source": [
        "ConfusionMatrixDisplay.from_predictions(y_train, best_model.predict(X_train))"
      ],
      "metadata": {
        "colab": {
          "base_uri": "https://localhost:8080/",
          "height": 467
        },
        "id": "Q7inOE4wIjeH",
        "outputId": "b3e1f888-76c5-459e-8059-86e7968fa36f"
      },
      "execution_count": null,
      "outputs": [
        {
          "output_type": "execute_result",
          "data": {
            "text/plain": [
              "<sklearn.metrics._plot.confusion_matrix.ConfusionMatrixDisplay at 0x7b1ba63e6650>"
            ]
          },
          "metadata": {},
          "execution_count": 71
        },
        {
          "output_type": "display_data",
          "data": {
            "text/plain": [
              "<Figure size 640x480 with 2 Axes>"
            ],
            "image/png": "[encoded data removed]"
          },
          "metadata": {}
        }
      ]
    }
  ]
}